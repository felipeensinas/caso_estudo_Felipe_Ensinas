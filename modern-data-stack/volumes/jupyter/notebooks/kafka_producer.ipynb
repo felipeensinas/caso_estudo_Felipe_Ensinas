{
 "cells": [
  {
   "cell_type": "code",
   "execution_count": 1,
   "id": "864ed1ee-bdcf-493b-8bf5-a7dd3c23c51d",
   "metadata": {},
   "outputs": [
    {
     "name": "stdout",
     "output_type": "stream",
     "text": [
      "Collecting kafka-python\n",
      "  Downloading kafka_python-2.2.11-py2.py3-none-any.whl.metadata (10.0 kB)\n",
      "Requirement already satisfied: minio in /opt/conda/lib/python3.11/site-packages (7.2.15)\n",
      "Requirement already satisfied: certifi in /opt/conda/lib/python3.11/site-packages (from minio) (2024.8.30)\n",
      "Requirement already satisfied: urllib3 in /opt/conda/lib/python3.11/site-packages (from minio) (2.2.3)\n",
      "Requirement already satisfied: argon2-cffi in /opt/conda/lib/python3.11/site-packages (from minio) (23.1.0)\n",
      "Requirement already satisfied: pycryptodome in /opt/conda/lib/python3.11/site-packages (from minio) (3.23.0)\n",
      "Requirement already satisfied: typing-extensions in /opt/conda/lib/python3.11/site-packages (from minio) (4.12.2)\n",
      "Requirement already satisfied: argon2-cffi-bindings in /opt/conda/lib/python3.11/site-packages (from argon2-cffi->minio) (21.2.0)\n",
      "Requirement already satisfied: cffi>=1.0.1 in /opt/conda/lib/python3.11/site-packages (from argon2-cffi-bindings->argon2-cffi->minio) (1.17.1)\n",
      "Requirement already satisfied: pycparser in /opt/conda/lib/python3.11/site-packages (from cffi>=1.0.1->argon2-cffi-bindings->argon2-cffi->minio) (2.22)\n",
      "Downloading kafka_python-2.2.11-py2.py3-none-any.whl (309 kB)\n",
      "Installing collected packages: kafka-python\n",
      "Successfully installed kafka-python-2.2.11\n"
     ]
    }
   ],
   "source": [
    "!pip install kafka-python minio"
   ]
  },
  {
   "cell_type": "code",
   "execution_count": 2,
   "id": "02f25a10",
   "metadata": {},
   "outputs": [],
   "source": [
    "import pandas as pd\n",
    "import random\n",
    "import json\n",
    "from kafka import KafkaProducer\n",
    "from minio import Minio\n",
    "from io import BytesIO\n",
    "import time"
   ]
  },
  {
   "cell_type": "markdown",
   "id": "b60019a1-14a0-428f-ae8a-cd4617d2d537",
   "metadata": {},
   "source": [
    "## Configurar cliente MinIO"
   ]
  },
  {
   "cell_type": "code",
   "execution_count": 3,
   "id": "dbce9931",
   "metadata": {},
   "outputs": [],
   "source": [
    "minio_client = Minio(\n",
    "    \"minio:9000\",\n",
    "    access_key=\"4PRJYFLGzQYTnOJGH1gA\",\n",
    "    secret_key=\"ovBkCsqh2cXNkyoteCzQMV5JWCUk5tHfsG1GwYbD\",\n",
    "    secure=False\n",
    ")"
   ]
  },
  {
   "cell_type": "markdown",
   "id": "4dd27961-2403-4728-87a6-4e7923e85452",
   "metadata": {},
   "source": [
    "## Carregar dados de clientes"
   ]
  },
  {
   "cell_type": "code",
   "execution_count": 4,
   "id": "6b71f05c",
   "metadata": {},
   "outputs": [
    {
     "data": {
      "text/plain": [
       "0          MARY SMITH\n",
       "1    PATRICIA JOHNSON\n",
       "2      LINDA WILLIAMS\n",
       "3       BARBARA JONES\n",
       "4     ELIZABETH BROWN\n",
       "5      JENNIFER DAVIS\n",
       "6        MARIA MILLER\n",
       "7        SUSAN WILSON\n",
       "8      MARGARET MOORE\n",
       "9      DOROTHY TAYLOR\n",
       "Name: name, dtype: object"
      ]
     },
     "execution_count": 4,
     "metadata": {},
     "output_type": "execute_result"
    }
   ],
   "source": [
    "customer_objects = minio_client.list_objects(\"raw\", prefix=\"pagila_db/customer/\", recursive=True)\n",
    "customer_list = []\n",
    "for obj in customer_objects:\n",
    "    data = minio_client.get_object(\"raw\", obj.object_name)\n",
    "    df = pd.read_parquet(BytesIO(data.read()))\n",
    "    customer_list.append(df)\n",
    "customers = pd.concat(customer_list, ignore_index=True)\n",
    "customers['name'] = customers['first_name'] + ' ' + customers['last_name']\n",
    "customers['name'].head(10)\n"
   ]
  },
  {
   "cell_type": "markdown",
   "id": "f0e6f209-6742-47a3-98db-91dbca0a30ff",
   "metadata": {},
   "source": [
    "## Carregar dados de filmes"
   ]
  },
  {
   "cell_type": "code",
   "execution_count": 5,
   "id": "a83fb208",
   "metadata": {},
   "outputs": [
    {
     "data": {
      "text/plain": [
       "0    ACADEMY DINOSAUR\n",
       "1      ACE GOLDFINGER\n",
       "2    ADAPTATION HOLES\n",
       "3    AFFAIR PREJUDICE\n",
       "4         AFRICAN EGG\n",
       "5        AGENT TRUMAN\n",
       "6     AIRPLANE SIERRA\n",
       "7     AIRPORT POLLOCK\n",
       "8       ALABAMA DEVIL\n",
       "9    ALADDIN CALENDAR\n",
       "Name: title, dtype: object"
      ]
     },
     "execution_count": 5,
     "metadata": {},
     "output_type": "execute_result"
    }
   ],
   "source": [
    "film_objects = minio_client.list_objects(\"raw\", prefix=\"pagila_db/film/\", recursive=True)\n",
    "films_list = []\n",
    "for obj in film_objects:\n",
    "    data = minio_client.get_object(\"raw\", obj.object_name)\n",
    "    df = pd.read_parquet(BytesIO(data.read()))\n",
    "    films_list.append(df)\n",
    "films = pd.concat(films_list, ignore_index=True)\n",
    "films['title'].head(10)"
   ]
  },
  {
   "cell_type": "markdown",
   "id": "02ae7e7a-1402-44b1-937f-ce2f94b009e7",
   "metadata": {},
   "source": [
    "## Montar lista de reviews fictícias"
   ]
  },
  {
   "cell_type": "code",
   "execution_count": 6,
   "id": "d22d487c",
   "metadata": {},
   "outputs": [],
   "source": [
    "# Com base em sentimentos positivos, neutros e negativos\n",
    "positive_review = [\n",
    "    \"Um filme incrível! Recomendo muito.\",\n",
    "    \"Adorei a atuação e o roteiro.\",\n",
    "    \"Excelente produção, vale a pena assistir.\",\n",
    "    \"Uma experiência cinematográfica fantástica.\",\n",
    "    \"Muito divertido e envolvente!\"\n",
    "]\n",
    "neutral_review = [\n",
    "    \"O filme é bom, mas nada de especial.\",\n",
    "    \"Entretenimento razoável.\",\n",
    "    \"Achei interessante, mas poderia ser melhor.\",\n",
    "    \"Um filme mediano.\",\n",
    "    \"Cumpre o que promete.\"\n",
    "]\n",
    "negative_review = [\n",
    "    \"Não gostei muito do filme.\",\n",
    "    \"Achei a história fraca.\",\n",
    "    \"Esperava mais dos atores.\",\n",
    "    \"O filme é cansativo.\",\n",
    "    \"Não recomendo.\"\n",
    "]"
   ]
  },
  {
   "cell_type": "markdown",
   "id": "70c90bf1-b40c-4bf3-9766-b324008d57be",
   "metadata": {},
   "source": [
    "## Função para gerar uma review aleatória"
   ]
  },
  {
   "cell_type": "code",
   "execution_count": 7,
   "id": "3bb1c1cb",
   "metadata": {},
   "outputs": [],
   "source": [
    "review = {\n",
    "    'text': None,\n",
    "    'rating': None\n",
    "}\n",
    "\n",
    "def generate_review():\n",
    "    tipo = random.choices(\n",
    "        ['positiva', 'neutra', 'negativa'],\n",
    "        weights=[0.3, 0.5, 0.2]\n",
    "    )[0]\n",
    "    if tipo == 'positiva':\n",
    "        review['text'] = random.choice(positive_review)\n",
    "        review['rating'] = random.randint(7, 10)\n",
    "        return review\n",
    "    elif tipo == 'neutra':\n",
    "        review['text'] = random.choice(neutral_review)\n",
    "        review['rating'] = random.randint(5, 6)\n",
    "        return review\n",
    "    else:\n",
    "        review['text'] =  random.choice(negative_review)\n",
    "        review['rating'] = random.randint(0, 4)\n",
    "        return review"
   ]
  },
  {
   "cell_type": "markdown",
   "id": "80e06d68-51b1-4961-927e-1432f3c0c7ea",
   "metadata": {},
   "source": [
    "## Configurar Kafka Producer"
   ]
  },
  {
   "cell_type": "code",
   "execution_count": 8,
   "id": "9b64f71b",
   "metadata": {},
   "outputs": [
    {
     "data": {
      "text/plain": [
       "True"
      ]
     },
     "execution_count": 8,
     "metadata": {},
     "output_type": "execute_result"
    }
   ],
   "source": [
    "producer = KafkaProducer(\n",
    "    bootstrap_servers=['kafka:9092'],\n",
    "    value_serializer=lambda v: json.dumps(v).encode('utf-8'),\n",
    "    #acks='0'  # Não esperar confirmação do broker\n",
    ")\n",
    "\n",
    "producer.bootstrap_connected()"
   ]
  },
  {
   "cell_type": "markdown",
   "id": "60448964-342a-4ca0-9e14-90360a3a27ff",
   "metadata": {},
   "source": [
    "## Enviar mensagens fictícias a cada 30 segundos"
   ]
  },
  {
   "cell_type": "code",
   "execution_count": null,
   "id": "adde96b1",
   "metadata": {},
   "outputs": [],
   "source": [
    "for _ in range(1000):\n",
    "    customer = customers.sample(1).iloc[0]\n",
    "    film = films.sample(1).iloc[0]\n",
    "    review = generate_review()\n",
    "    payload = {\n",
    "        'name': customer['name'],\n",
    "        'film': film['title'],\n",
    "        'rating': review['rating'],\n",
    "        'review': review['text'],\n",
    "    }\n",
    "    producer.send(\n",
    "        topic='popular_critics',\n",
    "        value=payload\n",
    "    )\n",
    "    time.sleep(10)"
   ]
  },
  {
   "cell_type": "markdown",
   "id": "f92c95d7-e067-4f27-ae8e-f886eab5870c",
   "metadata": {},
   "source": [
    "## Limpando e encerrando canal"
   ]
  },
  {
   "cell_type": "code",
   "execution_count": null,
   "id": "2a669fb4-fa6a-405b-9d24-1c931cafd348",
   "metadata": {},
   "outputs": [],
   "source": [
    "producer.flush()\n",
    "producer.close()"
   ]
  }
 ],
 "metadata": {
  "kernelspec": {
   "display_name": "Python 3 (ipykernel)",
   "language": "python",
   "name": "python3"
  },
  "language_info": {
   "codemirror_mode": {
    "name": "ipython",
    "version": 3
   },
   "file_extension": ".py",
   "mimetype": "text/x-python",
   "name": "python",
   "nbconvert_exporter": "python",
   "pygments_lexer": "ipython3",
   "version": "3.11.10"
  }
 },
 "nbformat": 4,
 "nbformat_minor": 5
}
