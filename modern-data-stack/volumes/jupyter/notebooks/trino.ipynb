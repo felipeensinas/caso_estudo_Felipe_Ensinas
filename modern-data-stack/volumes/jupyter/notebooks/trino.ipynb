{
 "cells": [
  {
   "cell_type": "markdown",
   "id": "847d8595-0569-4bc0-8232-b54d91f921f9",
   "metadata": {},
   "source": [
    "## Criando um Catalogo Usando o Trino"
   ]
  },
  {
   "cell_type": "code",
   "execution_count": null,
   "id": "f4910883-0c93-4ef4-8166-1e083e138703",
   "metadata": {},
   "outputs": [],
   "source": [
    "!pip install -q trino"
   ]
  },
  {
   "cell_type": "code",
   "execution_count": null,
   "id": "3f9a7329-8b79-4271-87b9-7866baa89c9c",
   "metadata": {},
   "outputs": [],
   "source": [
    "CATALOG_URL = \"http://lakekeeper:8181/catalog\"\n",
    "TRINO_URI = \"http://trino:8080\"\n",
    "WAREHOUSE = \"trusted\""
   ]
  },
  {
   "cell_type": "code",
   "execution_count": null,
   "id": "faa34851",
   "metadata": {
    "vscode": {
     "languageId": "plaintext"
    }
   },
   "outputs": [],
   "source": [
    "from trino.dbapi import connect\n",
    "\n",
    "conn = connect(host=TRINO_URI, user=\"trino\")\n",
    "\n",
    "cursor = conn.cursor()\n",
    "\n",
    "cursor.execute(f\"\"\"CREATE CATALOG trusted USING iceberg\n",
    "WITH (\n",
    "\"iceberg.catalog.type\" = 'rest',\n",
    "\"iceberg.rest-catalog.uri\" = '{CATALOG_URL}',\n",
    "\"iceberg.rest-catalog.warehouse\" = '{WAREHOUSE}',\n",
    "\"iceberg.rest-catalog.security\" = 'OAUTH2',\n",
    "\"iceberg.rest-catalog.nested-namespace-enabled\" = 'true',\n",
    "\"iceberg.rest-catalog.vended-credentials-enabled\" = 'true',\n",
    "\"fs.native-s3.enabled\" = 'true',\n",
    "\"fs.native-s3.enabled\" = 'true',\n",
    "\"s3.region\" = 'local-01',\n",
    "\"s3.path-style-access\" = 'true',\n",
    "\"s3.endpoint\" = 'http://minio:9000/'\n",
    ")\n",
    "\"\"\")\n",
    "\n",
    "conn = connect(\n",
    "    host=TRINO_URI,\n",
    "    user=\"trino\",\n",
    "    catalog=\"trusted\",\n",
    ")"
   ]
  },
  {
   "cell_type": "code",
   "execution_count": null,
   "id": "22a97983-71c4-4f06-9b3d-0fb0fa94f0c6",
   "metadata": {},
   "outputs": [],
   "source": [
    "cursor.execute(f\"\"\"DROP CATALOG trusted\"\"\")"
   ]
  }
 ],
 "metadata": {
  "kernelspec": {
   "display_name": "Python 3 (ipykernel)",
   "language": "python",
   "name": "python3"
  },
  "language_info": {
   "codemirror_mode": {
    "name": "ipython",
    "version": 3
   },
   "file_extension": ".py",
   "mimetype": "text/x-python",
   "name": "python",
   "nbconvert_exporter": "python",
   "pygments_lexer": "ipython3",
   "version": "3.11.10"
  }
 },
 "nbformat": 4,
 "nbformat_minor": 5
}
